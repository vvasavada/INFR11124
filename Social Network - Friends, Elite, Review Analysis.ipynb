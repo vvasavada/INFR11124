{
 "cells": [
  {
   "cell_type": "code",
   "execution_count": 2,
   "metadata": {
    "collapsed": true
   },
   "outputs": [],
   "source": [
    "import networkx as nx\n",
    "import matplotlib.pyplot as ply\n",
    "\n",
    "%matplotlib inline"
   ]
  },
  {
   "cell_type": "code",
   "execution_count": 3,
   "metadata": {
    "collapsed": true
   },
   "outputs": [],
   "source": [
    "from extract_user_reviews import *"
   ]
  },
  {
   "cell_type": "code",
   "execution_count": 4,
   "metadata": {
    "collapsed": true
   },
   "outputs": [],
   "source": [
    "import parser"
   ]
  },
  {
   "cell_type": "code",
   "execution_count": 5,
   "metadata": {
    "collapsed": false
   },
   "outputs": [],
   "source": [
    "business_users = {}\n",
    "for user_id in user_review_business.keys():\n",
    "    if user_review_business[user_id] in business_users.keys():\n",
    "        business_users[user_review_business[user_id]].append(user_id)\n",
    "    else:\n",
    "        business_users[user_review_business[user_id]] = [user_id]"
   ]
  },
  {
   "cell_type": "code",
   "execution_count": 12,
   "metadata": {
    "collapsed": false
   },
   "outputs": [
    {
     "name": "stdout",
     "output_type": "stream",
     "text": [
      "-0.0764814814815\n",
      "0.151666666667\n",
      "We are on Holiday from the United States, and Hellers Full Breakfast has been the our first truly regrettable breakfast. We found this place a short walk from our lodgings on Yelp, under Gluten-free Restaurant, it is not a remotely Gluten-free location. After asking about GF options we were greated with the standard song and dance,  we deal with this all the time. Only one person in our group is Gluten-intolerant but everything we ordered was terible. \n",
      "Fried and poached eggs so overcooked they would bounce, burned toast, underdone potatoes and bacon, tasteless sausage, cold beans,  oily mushrooms, and the black pudding tasted as if it was made with sawdust. My tea was weak enough to be indistinguishable from dirty water. \n",
      "I know that some will discount this because we are American, but we have loved breakfast here just this place was a let down.\n",
      "--------------------------\n",
      "Went here based on a Yelp review that they were very good at accommodating allergies.   Not the case.  Besides that, my bacon and potato were undercooked, I ate one bite and did not think it prudent to eat any more.  My poached egg was so over cooked that I did not recognize it as an egg at first.  My first thought was why is there a rubber ball on my plate?  I'm from America, the home of disappointing breakfasts, I come in with the lowest of expectations, and this was worse than the cafe at the bus station.\n",
      "-0.0138888888889\n",
      "0.268422619048\n",
      "HAGGIS HOTDOG! Decided on The Huxley after the place we attempted to initially find was closed on Sundays. Sad times and we were hungry!\n",
      "\n",
      "But The Huxley was open Hurrah! As I've capitalised: HAGGIS HOTDOG! My first taste of haggis, it's not that bad, it actually tasted better than the BBQ dog, which was too sweet in my opinion. Also, I think they might have taken on the comments from other reviewers, because the HH came in a baguette and that was lovely. \n",
      "\n",
      "I'm thinking I should've got something beef though, because of other reviews and also there's a cow model next to the entrance and one coming out of the balcony above it?\n",
      "--------------------------\n",
      "This place has changed again, seriously? Being a frequent(ish) visitor to Edinburgh I find that this place is different every time I'm in town. I believe it has changed hands more times a parcel during a game of pass the parcel played by a group of hyperactive kids.\n",
      "\n",
      "The Huxley is a fantastic looking place however, it's obvious that the owners have splashed out on some very tasteful furniture and decor. The staff were also very friendly, the bar well stocked and there was a nice selections of draught beers on offer. I also enjoyed the music, not too loud and added nicely to the vibe of the place.\n",
      "\n",
      "Prices however are pretty steep, something which I'm sure the owners realise. You can tell they are after a certain type of clientèle here, as you are greated at the door by a YAT (young attractive female).\n",
      "\n",
      "Had a wee swatch at the food as it passed and it looked pretty tasty. Nice place for a wee upmarket drink if your in this neck of the woods.\n",
      "167\n",
      "2\n"
     ]
    }
   ],
   "source": [
    "from textblob import TextBlob\n",
    "\n",
    "g = nx.Graph()\n",
    "users = parser.getUsers()\n",
    "for user in users:\n",
    "    g.add_node(user, \n",
    "              friendCount = user.getFriendCount(),\n",
    "              yelpingSince = user.getYelpingSince())\n",
    "\n",
    "same_polarity = 0\n",
    "opposite_polarity = 0\n",
    "nodes1 = g.nodes()\n",
    "nodes2 = g.nodes()\n",
    "for node1 in nodes1:\n",
    "    for node2 in nodes2:\n",
    "        if node1.getID() != node2.getID():\n",
    "            if node1.isFriend(node2.getID()):\n",
    "                for business_id in business_users.keys():\n",
    "                    correview_users = business_users[business_id]\n",
    "                    if node1.getID() in correview_users:\n",
    "                        if node2.getID() in correview_users:\n",
    "                            g.add_edge(node1, node2)\n",
    "                            polarity = []\n",
    "                            for review1 in user_reviews[node1.getID()]:\n",
    "                                if review1[\"business_id\"] == business_id:\n",
    "                                    b = TextBlob(review1[\"text\"])\n",
    "                                    polarity.append(b.sentiment.polarity)\n",
    "                                    break\n",
    "                            for review2 in user_reviews[node2.getID()]:\n",
    "                                if review2[\"business_id\"] == business_id:\n",
    "                                    b = TextBlob(review2[\"text\"])\n",
    "                                    polarity.append(b.sentiment.polarity)\n",
    "                                    break\n",
    "                            if (polarity[0] >= 0 and polarity[1] >= 0) or (polarity[1] < 0 and polarity[1] < 0):\n",
    "                                same_polarity += 1\n",
    "                            else:\n",
    "                                opposite_polarity += 1\n",
    "    nodes2.remove(node1)\n",
    "\n",
    "print same_polarity\n",
    "print opposite_polarity"
   ]
  },
  {
   "cell_type": "code",
   "execution_count": 13,
   "metadata": {
    "collapsed": false
   },
   "outputs": [
    {
     "name": "stdout",
     "output_type": "stream",
     "text": [
      "169\n",
      "3828\n"
     ]
    }
   ],
   "source": [
    "nx.write_gexf(g, \"friendship.gexf\")\n",
    "\n",
    "print len(g.edges())\n",
    "print len(g.nodes())\n",
    "degree_sequence = []\n",
    "\n",
    "for degree in g.degree().values():\n",
    "    degree_sequence.append(degree)"
   ]
  },
  {
   "cell_type": "code",
   "execution_count": 14,
   "metadata": {
    "collapsed": false
   },
   "outputs": [
    {
     "data": {
      "image/png": "[encoded data removed]",
      "text/plain": [
       "<matplotlib.figure.Figure at 0x7f6574974290>"
      ]
     },
     "metadata": {},
     "output_type": "display_data"
    }
   ],
   "source": [
    "ply.hist(degree_sequence, log=True)\n",
    "ply.title(\"Degree Histogram\")\n",
    "ply.ylabel(\"Count\")\n",
    "ply.xlabel(\"Degree\")\n",
    "ply.show()"
   ]
  },
  {
   "cell_type": "code",
   "execution_count": 21,
   "metadata": {
    "collapsed": false
   },
   "outputs": [],
   "source": [
    "from textblob import TextBlob\n",
    "\n",
    "g = nx.Graph()\n",
    "users = parser.getUsers()\n",
    "for user in users:\n",
    "    if user.getEliteNum() > 0:\n",
    "        g.add_node(user)\n",
    "    \n",
    "nodes1 = g.nodes()\n",
    "nodes2 = g.nodes()\n",
    "for node1 in nodes1:\n",
    "    for node2 in nodes2:\n",
    "        if node1.getID() != node2.getID():\n",
    "            for business_id in business_users.keys():\n",
    "                correview_users = business_users[business_id]\n",
    "                if node1.getID() in correview_users:\n",
    "                    if node2.getID() in correview_users:                        \n",
    "                        polarity = []\n",
    "                        for review in user_reviews[node1.getID()]:\n",
    "                            if review[\"business_id\"] == business_id:\n",
    "                                b = TextBlob(review[\"text\"])\n",
    "                                polarity.append(b.sentiment.polarity)\n",
    "                                break\n",
    "                        for review in user_reviews[node2.getID()]:\n",
    "                            if review[\"business_id\"] == business_id:\n",
    "                                b = TextBlob(review[\"text\"])\n",
    "                                polarity.append(b.sentiment.polarity)\n",
    "                                break\n",
    "                        if (polarity[0] >=0 and polarity[1] < 0) or (polarity[0] < 0 and polarity[1] >= 0):\n",
    "                            g.add_edge(node1, node2)\n",
    "    nodes2.remove(node1)"
   ]
  },
  {
   "cell_type": "code",
   "execution_count": 16,
   "metadata": {
    "collapsed": true
   },
   "outputs": [],
   "source": [
    "outdeg = g.degree()\n",
    "to_remove = [n for n in outdeg if outdeg[n] == 0]\n",
    "g.remove_nodes_from(to_remove)"
   ]
  },
  {
   "cell_type": "code",
   "execution_count": 18,
   "metadata": {
    "collapsed": false
   },
   "outputs": [
    {
     "name": "stdout",
     "output_type": "stream",
     "text": [
      "104\n",
      "123\n"
     ]
    }
   ],
   "source": [
    "nx.write_gexf(g, \"elite-users-different.gexf\")\n",
    "\n",
    "\n",
    "print (len(g.edges()))\n",
    "print len(g.nodes())\n",
    "degree_sequence = []\n",
    "\n",
    "for degree in g.degree().values():\n",
    "    degree_sequence.append(degree)"
   ]
  },
  {
   "cell_type": "code",
   "execution_count": null,
   "metadata": {
    "collapsed": false,
    "scrolled": true
   },
   "outputs": [],
   "source": [
    "ply.hist(degree_sequence, log=True)\n",
    "ply.title(\"Degree Histogram\")\n",
    "ply.ylabel(\"Count\")\n",
    "ply.xlabel(\"Degree\")\n",
    "ply.show()"
   ]
  },
  {
   "cell_type": "code",
   "execution_count": null,
   "metadata": {
    "collapsed": true
   },
   "outputs": [],
   "source": []
  }
 ],
 "metadata": {
  "kernelspec": {
   "display_name": "Python 2",
   "language": "python",
   "name": "python2"
  },
  "language_info": {
   "codemirror_mode": {
    "name": "ipython",
    "version": 2
   },
   "file_extension": ".py",
   "mimetype": "text/x-python",
   "name": "python",
   "nbconvert_exporter": "python",
   "pygments_lexer": "ipython2",
   "version": "2.7.6"
  }
 },
 "nbformat": 4,
 "nbformat_minor": 1
}
