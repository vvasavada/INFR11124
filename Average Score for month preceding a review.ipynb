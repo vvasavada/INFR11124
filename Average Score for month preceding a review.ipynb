{
 "cells": [
  {
   "cell_type": "code",
   "execution_count": 1,
   "metadata": {
    "collapsed": true
   },
   "outputs": [],
   "source": [
    "import json\n",
    "import datetime\n",
    "import matplotlib.pyplot as plt"
   ]
  },
  {
   "cell_type": "code",
   "execution_count": 3,
   "metadata": {
    "collapsed": false
   },
   "outputs": [],
   "source": [
    "with open('data/edinburgh_restaurant_reviews.json', 'r') as fp:\n",
    "    res_reviews = json.load(fp)"
   ]
  },
  {
   "cell_type": "code",
   "execution_count": 4,
   "metadata": {
    "collapsed": false
   },
   "outputs": [],
   "source": [
    "def rating_time(review):\n",
    "    datestr = review['date']\n",
    "    date = datetime.datetime.strptime(datestr, '%Y-%m-%d').date()\n",
    "    return {'date': date, 'rating': review['stars']}"
   ]
  },
  {
   "cell_type": "code",
   "execution_count": 5,
   "metadata": {
    "collapsed": true
   },
   "outputs": [],
   "source": [
    "def rating_density(rating_list):\n",
    "    deltas = [rating_list[ii]['date'] - rating_list[ii-1]['date'] for ii in range(len(rating_list))[1:]]\n",
    "    day_gaps = [r.days for r in deltas]\n",
    "    av_gap = float(sum(day_gaps)) / len(day_gaps)\n",
    "    return av_gap"
   ]
  },
  {
   "cell_type": "code",
   "execution_count": 6,
   "metadata": {
    "collapsed": true
   },
   "outputs": [],
   "source": [
    "def prec_month_rating(rating_list):\n",
    "    month_delta = datetime.timedelta(28)\n",
    "    for rl in rating_list:\n",
    "        last_month_ratings = [rr['rating'] for rr in rating_list\n",
    "                              if rl['date'] - month_delta < rr['date'] <= rl['date']]\n",
    "        lm_mean = float(sum(last_month_ratings)) / len(last_month_ratings)\n",
    "        rl['pmr'] = lm_mean"
   ]
  },
  {
   "cell_type": "code",
   "execution_count": 7,
   "metadata": {
    "collapsed": true
   },
   "outputs": [],
   "source": [
    "ratings = {}\n",
    "for res in res_reviews:\n",
    "    ratings[res] = [rating_time(rr) for rr in res_reviews[res]]"
   ]
  },
  {
   "cell_type": "code",
   "execution_count": 8,
   "metadata": {
    "collapsed": false
   },
   "outputs": [],
   "source": [
    "rd = [rating_density(rr) for rr in ratings.values() if len(rr) > 1]\n",
    "rev_rate = [28.0 / xx for xx in rd if xx > 0.0]"
   ]
  },
  {
   "cell_type": "code",
   "execution_count": 9,
   "metadata": {
    "collapsed": false
   },
   "outputs": [
    {
     "data": {
      "image/png": "[encoded data removed]",
      "text/plain": [
       "<matplotlib.figure.Figure at 0x7f811cb2dc90>"
      ]
     },
     "metadata": {},
     "output_type": "display_data"
    }
   ],
   "source": [
    "plt.hist(rev_rate, bins=60, log=True)\n",
    "plt.ylabel('freq (# businesses)')\n",
    "plt.xlabel('average reviews per month')\n",
    "plt.show()"
   ]
  },
  {
   "cell_type": "code",
   "execution_count": 10,
   "metadata": {
    "collapsed": false
   },
   "outputs": [
    {
     "data": {
      "text/plain": [
       "[{'date': datetime.date(2012, 9, 3), 'pmr': 5.0, 'rating': 5},\n",
       " {'date': datetime.date(2012, 12, 4), 'pmr': 5.0, 'rating': 5},\n",
       " {'date': datetime.date(2013, 2, 1), 'pmr': 4.0, 'rating': 4},\n",
       " {'date': datetime.date(2013, 2, 10), 'pmr': 4.5, 'rating': 5},\n",
       " {'date': datetime.date(2013, 2, 17), 'pmr': 4.0, 'rating': 4},\n",
       " {'date': datetime.date(2013, 2, 17), 'pmr': 4.0, 'rating': 3},\n",
       " {'date': datetime.date(2013, 2, 18), 'pmr': 3.8, 'rating': 3},\n",
       " {'date': datetime.date(2013, 3, 1), 'pmr': 3.6, 'rating': 3},\n",
       " {'date': datetime.date(2013, 3, 28), 'pmr': 2.0, 'rating': 1},\n",
       " {'date': datetime.date(2013, 3, 29), 'pmr': 2.5, 'rating': 4},\n",
       " {'date': datetime.date(2013, 6, 17), 'pmr': 2.0, 'rating': 2},\n",
       " {'date': datetime.date(2014, 5, 23), 'pmr': 3.0, 'rating': 3},\n",
       " {'date': datetime.date(2015, 2, 11), 'pmr': 2.0, 'rating': 2},\n",
       " {'date': datetime.date(2015, 2, 23), 'pmr': 2.5, 'rating': 3},\n",
       " {'date': datetime.date(2015, 3, 4), 'pmr': 3.3333333333333335, 'rating': 5},\n",
       " {'date': datetime.date(2015, 5, 15), 'pmr': 2.0, 'rating': 2},\n",
       " {'date': datetime.date(2016, 6, 19), 'pmr': 4.0, 'rating': 4}]"
      ]
     },
     "execution_count": 10,
     "metadata": {},
     "output_type": "execute_result"
    }
   ],
   "source": [
    "rlll = ratings.values()[102]\n",
    "prec_month_rating(rlll)\n",
    "rlll"
   ]
  }
 ],
 "metadata": {
  "kernelspec": {
   "display_name": "Python 2",
   "language": "python",
   "name": "python2"
  },
  "language_info": {
   "codemirror_mode": {
    "name": "ipython",
    "version": 2
   },
   "file_extension": ".py",
   "mimetype": "text/x-python",
   "name": "python",
   "nbconvert_exporter": "python",
   "pygments_lexer": "ipython2",
   "version": "2.7.6"
  }
 },
 "nbformat": 4,
 "nbformat_minor": 1
}
